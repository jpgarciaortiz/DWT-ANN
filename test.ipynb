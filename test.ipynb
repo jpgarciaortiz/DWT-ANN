{
  "nbformat": 4,
  "nbformat_minor": 0,
  "metadata": {
    "colab": {
      "name": "test.ipynb",
      "provenance": [],
      "include_colab_link": true
    },
    "jupytext": {
      "formats": "ipynb,py"
    },
    "kernelspec": {
      "display_name": "Python 3",
      "language": "python",
      "name": "python3"
    },
    "language_info": {
      "codemirror_mode": {
        "name": "ipython",
        "version": 3
      },
      "file_extension": ".py",
      "mimetype": "text/x-python",
      "name": "python",
      "nbconvert_exporter": "python",
      "pygments_lexer": "ipython3",
      "version": "3.9.4"
    }
  },
  "cells": [
    {
      "cell_type": "markdown",
      "metadata": {
        "id": "view-in-github",
        "colab_type": "text"
      },
      "source": [
        "<a href=\"https://colab.research.google.com/github/jpgarciaortiz/DWT-ANN/blob/main/test.ipynb\" target=\"_parent\"><img src=\"https://colab.research.google.com/assets/colab-badge.svg\" alt=\"Open In Colab\"/></a>"
      ]
    },
    {
      "cell_type": "markdown",
      "metadata": {
        "id": "qFOJYQ0aofPU"
      },
      "source": [
        "# Previous steps\n"
      ]
    },
    {
      "cell_type": "markdown",
      "metadata": {
        "id": "0yFCGFvIH_Jt"
      },
      "source": [
        "Download MRVC code from GitHub"
      ]
    },
    {
      "cell_type": "code",
      "metadata": {
        "id": "XDGHre7wHlNt"
      },
      "source": [
        "!rm -rf MRVC ; git clone https://github.com/jpgarciaortiz/MRVC.git"
      ],
      "execution_count": 67,
      "outputs": []
    },
    {
      "cell_type": "markdown",
      "metadata": {
        "id": "0OjrmSdwLURN"
      },
      "source": [
        "Add the MRVC to the source path"
      ]
    },
    {
      "cell_type": "code",
      "metadata": {
        "id": "mBb9I9loKVXa"
      },
      "source": [
        "import sys\n",
        "sys.path.append(\"MRVC/src\")"
      ],
      "execution_count": 2,
      "outputs": []
    },
    {
      "cell_type": "markdown",
      "metadata": {
        "id": "QqpBinBCIzGX"
      },
      "source": [
        "Install additional packages"
      ]
    },
    {
      "cell_type": "code",
      "metadata": {
        "id": "AlcU-m2VmYWQ",
        "colab": {
          "base_uri": "https://localhost:8080/"
        },
        "outputId": "3934614c-ca43-41cb-f7a3-298e7d574711"
      },
      "source": [
        "!pip install colored"
      ],
      "execution_count": 3,
      "outputs": [
        {
          "output_type": "stream",
          "text": [
            "Collecting colored\n",
            "  Downloading colored-1.4.2.tar.gz (56 kB)\n",
            "\u001b[?25l\r\u001b[K     |█████▉                          | 10 kB 18.2 MB/s eta 0:00:01\r\u001b[K     |███████████▋                    | 20 kB 22.2 MB/s eta 0:00:01\r\u001b[K     |█████████████████▍              | 30 kB 26.2 MB/s eta 0:00:01\r\u001b[K     |███████████████████████▏        | 40 kB 27.3 MB/s eta 0:00:01\r\u001b[K     |█████████████████████████████   | 51 kB 7.0 MB/s eta 0:00:01\r\u001b[K     |████████████████████████████████| 56 kB 3.2 MB/s \n",
            "\u001b[?25hBuilding wheels for collected packages: colored\n",
            "  Building wheel for colored (setup.py) ... \u001b[?25l\u001b[?25hdone\n",
            "  Created wheel for colored: filename=colored-1.4.2-py3-none-any.whl size=14023 sha256=00ddf0828269d7fc1af652286d684b3b68098932eccd20af928ac0442f37c573\n",
            "  Stored in directory: /root/.cache/pip/wheels/5f/e1/fb/d0e85a8383ff58962319bb81c46e398fa1f4bb9e1feb0f81c4\n",
            "Successfully built colored\n",
            "Installing collected packages: colored\n",
            "Successfully installed colored-1.4.2\n"
          ],
          "name": "stdout"
        }
      ]
    },
    {
      "cell_type": "code",
      "metadata": {
        "colab": {
          "base_uri": "https://localhost:8080/"
        },
        "id": "CsXg_Z5ykO92",
        "outputId": "224986f7-16e1-47e0-f6f0-b715b520352f"
      },
      "source": [
        "!pip install ISR"
      ],
      "execution_count": 66,
      "outputs": [
        {
          "output_type": "stream",
          "text": [
            "Requirement already satisfied: ISR in /usr/local/lib/python3.7/dist-packages (2.2.0)\n",
            "Requirement already satisfied: pyaml in /usr/local/lib/python3.7/dist-packages (from ISR) (21.8.3)\n",
            "Requirement already satisfied: numpy in /usr/local/lib/python3.7/dist-packages (from ISR) (1.19.5)\n",
            "Requirement already satisfied: tqdm in /usr/local/lib/python3.7/dist-packages (from ISR) (4.62.0)\n",
            "Requirement already satisfied: tensorflow==2.0.0 in /usr/local/lib/python3.7/dist-packages (from ISR) (2.0.0)\n",
            "Requirement already satisfied: imageio in /usr/local/lib/python3.7/dist-packages (from ISR) (2.4.1)\n",
            "Requirement already satisfied: wrapt>=1.11.1 in /usr/local/lib/python3.7/dist-packages (from tensorflow==2.0.0->ISR) (1.12.1)\n",
            "Requirement already satisfied: keras-preprocessing>=1.0.5 in /usr/local/lib/python3.7/dist-packages (from tensorflow==2.0.0->ISR) (1.1.2)\n",
            "Requirement already satisfied: keras-applications>=1.0.8 in /usr/local/lib/python3.7/dist-packages (from tensorflow==2.0.0->ISR) (1.0.8)\n",
            "Requirement already satisfied: grpcio>=1.8.6 in /usr/local/lib/python3.7/dist-packages (from tensorflow==2.0.0->ISR) (1.39.0)\n",
            "Requirement already satisfied: gast==0.2.2 in /usr/local/lib/python3.7/dist-packages (from tensorflow==2.0.0->ISR) (0.2.2)\n",
            "Requirement already satisfied: protobuf>=3.6.1 in /usr/local/lib/python3.7/dist-packages (from tensorflow==2.0.0->ISR) (3.17.3)\n",
            "Requirement already satisfied: wheel>=0.26 in /usr/local/lib/python3.7/dist-packages (from tensorflow==2.0.0->ISR) (0.37.0)\n",
            "Requirement already satisfied: tensorflow-estimator<2.1.0,>=2.0.0 in /usr/local/lib/python3.7/dist-packages (from tensorflow==2.0.0->ISR) (2.0.1)\n",
            "Requirement already satisfied: six>=1.10.0 in /usr/local/lib/python3.7/dist-packages (from tensorflow==2.0.0->ISR) (1.15.0)\n",
            "Requirement already satisfied: astor>=0.6.0 in /usr/local/lib/python3.7/dist-packages (from tensorflow==2.0.0->ISR) (0.8.1)\n",
            "Requirement already satisfied: absl-py>=0.7.0 in /usr/local/lib/python3.7/dist-packages (from tensorflow==2.0.0->ISR) (0.12.0)\n",
            "Requirement already satisfied: tensorboard<2.1.0,>=2.0.0 in /usr/local/lib/python3.7/dist-packages (from tensorflow==2.0.0->ISR) (2.0.2)\n",
            "Requirement already satisfied: termcolor>=1.1.0 in /usr/local/lib/python3.7/dist-packages (from tensorflow==2.0.0->ISR) (1.1.0)\n",
            "Requirement already satisfied: opt-einsum>=2.3.2 in /usr/local/lib/python3.7/dist-packages (from tensorflow==2.0.0->ISR) (3.3.0)\n",
            "Requirement already satisfied: google-pasta>=0.1.6 in /usr/local/lib/python3.7/dist-packages (from tensorflow==2.0.0->ISR) (0.2.0)\n",
            "Requirement already satisfied: h5py in /usr/local/lib/python3.7/dist-packages (from keras-applications>=1.0.8->tensorflow==2.0.0->ISR) (2.10.0)\n",
            "Requirement already satisfied: requests<3,>=2.21.0 in /usr/local/lib/python3.7/dist-packages (from tensorboard<2.1.0,>=2.0.0->tensorflow==2.0.0->ISR) (2.23.0)\n",
            "Requirement already satisfied: google-auth<2,>=1.6.3 in /usr/local/lib/python3.7/dist-packages (from tensorboard<2.1.0,>=2.0.0->tensorflow==2.0.0->ISR) (1.34.0)\n",
            "Requirement already satisfied: markdown>=2.6.8 in /usr/local/lib/python3.7/dist-packages (from tensorboard<2.1.0,>=2.0.0->tensorflow==2.0.0->ISR) (3.3.4)\n",
            "Requirement already satisfied: werkzeug>=0.11.15 in /usr/local/lib/python3.7/dist-packages (from tensorboard<2.1.0,>=2.0.0->tensorflow==2.0.0->ISR) (1.0.1)\n",
            "Requirement already satisfied: setuptools>=41.0.0 in /usr/local/lib/python3.7/dist-packages (from tensorboard<2.1.0,>=2.0.0->tensorflow==2.0.0->ISR) (57.4.0)\n",
            "Requirement already satisfied: google-auth-oauthlib<0.5,>=0.4.1 in /usr/local/lib/python3.7/dist-packages (from tensorboard<2.1.0,>=2.0.0->tensorflow==2.0.0->ISR) (0.4.5)\n",
            "Requirement already satisfied: cachetools<5.0,>=2.0.0 in /usr/local/lib/python3.7/dist-packages (from google-auth<2,>=1.6.3->tensorboard<2.1.0,>=2.0.0->tensorflow==2.0.0->ISR) (4.2.2)\n",
            "Requirement already satisfied: rsa<5,>=3.1.4 in /usr/local/lib/python3.7/dist-packages (from google-auth<2,>=1.6.3->tensorboard<2.1.0,>=2.0.0->tensorflow==2.0.0->ISR) (4.7.2)\n",
            "Requirement already satisfied: pyasn1-modules>=0.2.1 in /usr/local/lib/python3.7/dist-packages (from google-auth<2,>=1.6.3->tensorboard<2.1.0,>=2.0.0->tensorflow==2.0.0->ISR) (0.2.8)\n",
            "Requirement already satisfied: requests-oauthlib>=0.7.0 in /usr/local/lib/python3.7/dist-packages (from google-auth-oauthlib<0.5,>=0.4.1->tensorboard<2.1.0,>=2.0.0->tensorflow==2.0.0->ISR) (1.3.0)\n",
            "Requirement already satisfied: importlib-metadata in /usr/local/lib/python3.7/dist-packages (from markdown>=2.6.8->tensorboard<2.1.0,>=2.0.0->tensorflow==2.0.0->ISR) (4.6.4)\n",
            "Requirement already satisfied: pyasn1<0.5.0,>=0.4.6 in /usr/local/lib/python3.7/dist-packages (from pyasn1-modules>=0.2.1->google-auth<2,>=1.6.3->tensorboard<2.1.0,>=2.0.0->tensorflow==2.0.0->ISR) (0.4.8)\n",
            "Requirement already satisfied: chardet<4,>=3.0.2 in /usr/local/lib/python3.7/dist-packages (from requests<3,>=2.21.0->tensorboard<2.1.0,>=2.0.0->tensorflow==2.0.0->ISR) (3.0.4)\n",
            "Requirement already satisfied: idna<3,>=2.5 in /usr/local/lib/python3.7/dist-packages (from requests<3,>=2.21.0->tensorboard<2.1.0,>=2.0.0->tensorflow==2.0.0->ISR) (2.10)\n",
            "Requirement already satisfied: urllib3!=1.25.0,!=1.25.1,<1.26,>=1.21.1 in /usr/local/lib/python3.7/dist-packages (from requests<3,>=2.21.0->tensorboard<2.1.0,>=2.0.0->tensorflow==2.0.0->ISR) (1.24.3)\n",
            "Requirement already satisfied: certifi>=2017.4.17 in /usr/local/lib/python3.7/dist-packages (from requests<3,>=2.21.0->tensorboard<2.1.0,>=2.0.0->tensorflow==2.0.0->ISR) (2021.5.30)\n",
            "Requirement already satisfied: oauthlib>=3.0.0 in /usr/local/lib/python3.7/dist-packages (from requests-oauthlib>=0.7.0->google-auth-oauthlib<0.5,>=0.4.1->tensorboard<2.1.0,>=2.0.0->tensorflow==2.0.0->ISR) (3.1.1)\n",
            "Requirement already satisfied: pillow in /usr/local/lib/python3.7/dist-packages (from imageio->ISR) (7.1.2)\n",
            "Requirement already satisfied: typing-extensions>=3.6.4 in /usr/local/lib/python3.7/dist-packages (from importlib-metadata->markdown>=2.6.8->tensorboard<2.1.0,>=2.0.0->tensorflow==2.0.0->ISR) (3.7.4.3)\n",
            "Requirement already satisfied: zipp>=0.5 in /usr/local/lib/python3.7/dist-packages (from importlib-metadata->markdown>=2.6.8->tensorboard<2.1.0,>=2.0.0->tensorflow==2.0.0->ISR) (3.5.0)\n",
            "Requirement already satisfied: PyYAML in /usr/local/lib/python3.7/dist-packages (from pyaml->ISR) (3.13)\n"
          ],
          "name": "stdout"
        }
      ]
    },
    {
      "cell_type": "code",
      "metadata": {
        "colab": {
          "base_uri": "https://localhost:8080/"
        },
        "id": "cysp7y0Oldib",
        "outputId": "d9e5bf3c-e268-466e-8346-f2bcfbf94589"
      },
      "source": [
        "!pip install 'h5py<3.0.0'"
      ],
      "execution_count": 5,
      "outputs": [
        {
          "output_type": "stream",
          "text": [
            "Collecting h5py<3.0.0\n",
            "  Downloading h5py-2.10.0-cp37-cp37m-manylinux1_x86_64.whl (2.9 MB)\n",
            "\u001b[K     |████████████████████████████████| 2.9 MB 5.3 MB/s \n",
            "\u001b[?25hRequirement already satisfied: numpy>=1.7 in /usr/local/lib/python3.7/dist-packages (from h5py<3.0.0) (1.19.5)\n",
            "Requirement already satisfied: six in /usr/local/lib/python3.7/dist-packages (from h5py<3.0.0) (1.15.0)\n",
            "Installing collected packages: h5py\n",
            "  Attempting uninstall: h5py\n",
            "    Found existing installation: h5py 3.1.0\n",
            "    Uninstalling h5py-3.1.0:\n",
            "      Successfully uninstalled h5py-3.1.0\n",
            "Successfully installed h5py-2.10.0\n"
          ],
          "name": "stdout"
        }
      ]
    },
    {
      "cell_type": "markdown",
      "metadata": {
        "id": "2D3VMDC1q6qT"
      },
      "source": [
        "Import packages"
      ]
    },
    {
      "cell_type": "code",
      "metadata": {
        "id": "y_iZ9RxxZUOq"
      },
      "source": [
        "%load_ext autoreload\n",
        "%autoreload 2\n",
        "import numpy as np\n",
        "import matplotlib\n",
        "import matplotlib.pyplot as plt\n",
        "import pylab\n",
        "%matplotlib inline\n",
        "import image_3 as image\n",
        "import image_1 as component\n",
        "import DWT\n",
        "import pywt\n",
        "import distortion\n",
        "import YCoCg as YUV\n",
        "import deadzone as Q\n",
        "import math\n",
        "import information\n",
        "import numpy as np\n",
        "from PIL import Image"
      ],
      "execution_count": 6,
      "outputs": []
    },
    {
      "cell_type": "markdown",
      "metadata": {
        "id": "bov0ZQdMrXc1"
      },
      "source": [
        "# Test code"
      ]
    },
    {
      "cell_type": "markdown",
      "metadata": {
        "id": "S1ZbUkGfXwN0"
      },
      "source": [
        "Function to write DWT decomposition to PNG"
      ]
    },
    {
      "cell_type": "code",
      "metadata": {
        "id": "Eq5CJmHRZUOu"
      },
      "source": [
        "def write_compact_decomposition16(decom, prefix, image_number):\n",
        "    rows = decom[len(decom)-1][0].shape[0]*2\n",
        "    cols = decom[len(decom)-1][0].shape[1]*2\n",
        "    coms = decom[0].shape[2]\n",
        "    image_shape = (rows, cols, coms)\n",
        "    view = np.empty(image_shape, np.uint16)\n",
        "\n",
        "    # LL subband\n",
        "    view[0:decom[0].shape[0],\n",
        "         0:decom[0].shape[1]] = (decom[0].astype(np.int32) + 32768).astype(np.uint16)\n",
        "\n",
        "    for l in range(len(decom)-1):\n",
        "\n",
        "        # LH\n",
        "        view[0:decom[l+1][0].shape[0],\n",
        "             decom[l+1][0].shape[1]:decom[l+1][0].shape[1]*2] =\\\n",
        "                (decom[l+1][0].astype(np.int32) + 32768).astype(np.uint16)\n",
        "\n",
        "        # HL\n",
        "        view[decom[l+1][1].shape[0]:decom[l+1][1].shape[0]*2,\n",
        "             0:decom[l+1][1].shape[1]] =\\\n",
        "                (decom[l+1][1].astype(np.int32) + 32768).astype(np.uint16)\n",
        "\n",
        "        # HH\n",
        "        view[decom[l+1][2].shape[0]:decom[l+1][2].shape[0]*2,\n",
        "             decom[l+1][2].shape[1]:decom[l+1][2].shape[1]*2] =\\\n",
        "                (decom[l+1][2].astype(np.int32) + 32768).astype(np.uint16)\n",
        "            \n",
        "    return image.write(view, prefix, image_number)\n",
        "    \n",
        "\n",
        "def write_compact_decomposition(decom, prefix, image_number):\n",
        "    rows = decom[len(decom)-1][0].shape[0]*2\n",
        "    cols = decom[len(decom)-1][0].shape[1]*2\n",
        "    coms = decom[0].shape[2]\n",
        "    image_shape = (rows, cols, coms)\n",
        "    view = np.empty(image_shape, np.uint8)\n",
        "\n",
        "    # LL subband\n",
        "    view[0:decom[0].shape[0],\n",
        "         0:decom[0].shape[1]] = (decom[0].astype(np.int16) + 128).astype(np.uint16)\n",
        "\n",
        "    for l in range(len(decom)-1):\n",
        "\n",
        "        # LH\n",
        "        view[0:decom[l+1][0].shape[0],\n",
        "             decom[l+1][0].shape[1]:decom[l+1][0].shape[1]*2] =\\\n",
        "                (decom[l+1][0].astype(np.int16) + 128).astype(np.uint16)\n",
        "\n",
        "        # HL\n",
        "        view[decom[l+1][1].shape[0]:decom[l+1][1].shape[0]*2,\n",
        "             0:decom[l+1][1].shape[1]] =\\\n",
        "                (decom[l+1][1].astype(np.int16) + 128).astype(np.uint16)\n",
        "\n",
        "        # HH\n",
        "        view[decom[l+1][2].shape[0]:decom[l+1][2].shape[0]*2,\n",
        "             decom[l+1][2].shape[1]:decom[l+1][2].shape[1]*2] =\\\n",
        "                (decom[l+1][2].astype(np.int16) + 128).astype(np.uint16)\n",
        "            \n",
        "    return image.write(view, prefix, image_number)"
      ],
      "execution_count": 41,
      "outputs": []
    },
    {
      "cell_type": "markdown",
      "metadata": {
        "id": "EJp3B8maYMpM"
      },
      "source": [
        "Read the image"
      ]
    },
    {
      "cell_type": "code",
      "metadata": {
        "id": "yQlZ6q3bYKkd"
      },
      "source": [
        "x = image.read('MRVC/sequences/lena_color/')\n",
        "#Image.fromarray(x)"
      ],
      "execution_count": 45,
      "outputs": []
    },
    {
      "cell_type": "markdown",
      "metadata": {
        "id": "rSGTT0oOYhap"
      },
      "source": [
        "Wavelet parameters"
      ]
    },
    {
      "cell_type": "code",
      "metadata": {
        "id": "4wRN2aOvUS1M"
      },
      "source": [
        "N_levels = 1\n",
        "wavelet = pywt.Wavelet(\"Haar\")\n",
        "#wavelet = pywt.Wavelet(\"db1\")\n",
        "#wavelet = pywt.Wavelet(\"db5\")\n",
        "#wavelet = pywt.Wavelet(\"db15\")\n",
        "#wavelet = pywt.Wavelet(\"bior3.1\")\n",
        "#wavelet = pywt.Wavelet(\"bior3.3\")\n",
        "#wavelet = pywt.Wavelet(\"bior5.5\")"
      ],
      "execution_count": 68,
      "outputs": []
    },
    {
      "cell_type": "code",
      "metadata": {
        "id": "MJBzpsPKZUOz"
      },
      "source": [
        "y = DWT.analyze(x, wavelet, N_levels)\n",
        "#z = DWT.synthesize(y, wavelet, N_levels).astype(np.uint8)"
      ],
      "execution_count": 69,
      "outputs": []
    },
    {
      "cell_type": "code",
      "metadata": {
        "id": "o7k1qbUDU_lC",
        "outputId": "0271f040-f95a-48ed-cbfb-fd7981625f0c",
        "colab": {
          "base_uri": "https://localhost:8080/"
        }
      },
      "source": [
        "len0 = write_compact_decomposition(y, 'test', 0)\n",
        "print(f'File length 0: {len0} bytes')"
      ],
      "execution_count": 70,
      "outputs": [
        {
          "output_type": "stream",
          "text": [
            "File length 0: 531583 bytes\n"
          ],
          "name": "stdout"
        }
      ]
    },
    {
      "cell_type": "code",
      "metadata": {
        "id": "qgk2CO800TAd"
      },
      "source": [
        "ll = y[0]\n",
        "lh = y[1][0]\n",
        "hl = y[1][1]\n",
        "hh = y[1][2]"
      ],
      "execution_count": 71,
      "outputs": []
    },
    {
      "cell_type": "code",
      "metadata": {
        "id": "ztN-waCVS1AB"
      },
      "source": [
        "ll_i = (image.normalize(ll) * 255.0).astype('uint8')\n",
        "#Image.fromarray(ll_i)"
      ],
      "execution_count": 72,
      "outputs": []
    },
    {
      "cell_type": "code",
      "metadata": {
        "id": "pzwJXfBIUAC9"
      },
      "source": [
        "from ISR.models import RDN\n",
        "\n",
        "rdn = RDN(weights='psnr-small')\n",
        "ll_i2 = rdn.predict(ll_i)\n",
        "#Image.fromarray(ll_i2)"
      ],
      "execution_count": 73,
      "outputs": []
    },
    {
      "cell_type": "code",
      "metadata": {
        "id": "spXYm-k9UcKB"
      },
      "source": [
        "yp = DWT.analyze(ll_i2, wavelet, N_levels)"
      ],
      "execution_count": 74,
      "outputs": []
    },
    {
      "cell_type": "code",
      "metadata": {
        "id": "5ff69TpNUnUL"
      },
      "source": [
        "lhp = yp[1][0]\n",
        "hlp = yp[1][1]\n",
        "hhp = yp[1][2]"
      ],
      "execution_count": 75,
      "outputs": []
    },
    {
      "cell_type": "code",
      "metadata": {
        "id": "I0K103-OV6qR"
      },
      "source": [
        "yp[1] = (lh - lhp, hl - hlp, hh - hhp)\n"
      ],
      "execution_count": 76,
      "outputs": []
    },
    {
      "cell_type": "code",
      "metadata": {
        "colab": {
          "base_uri": "https://localhost:8080/"
        },
        "id": "Ct7ISqNO19_g",
        "outputId": "ce12da8a-9c18-4f82-ca2a-cfee5ec354ad"
      },
      "source": [
        "len1 = write_compact_decomposition(yp, 'test', 1)\n",
        "print(f'File length 1: {len1} bytes')"
      ],
      "execution_count": 77,
      "outputs": [
        {
          "output_type": "stream",
          "text": [
            "File length 1: 529213 bytes\n"
          ],
          "name": "stdout"
        }
      ]
    },
    {
      "cell_type": "code",
      "metadata": {
        "id": "tGwCqJcFY9Ew",
        "outputId": "2afad632-9531-46dd-eb46-2d231931eee3",
        "colab": {
          "base_uri": "https://localhost:8080/"
        }
      },
      "source": [
        "dif = len0 - len1\n",
        "gain = (dif * 100) / len0\n",
        "print(f'Compression gain: {gain:.2}%')"
      ],
      "execution_count": 78,
      "outputs": [
        {
          "output_type": "stream",
          "text": [
            "Compression gain: 0.45%\n"
          ],
          "name": "stdout"
        }
      ]
    },
    {
      "cell_type": "code",
      "metadata": {
        "id": "IpvKhgktZa7g"
      },
      "source": [
        ""
      ],
      "execution_count": null,
      "outputs": []
    }
  ]
}