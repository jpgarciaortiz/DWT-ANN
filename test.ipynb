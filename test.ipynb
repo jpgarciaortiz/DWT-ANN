{
  "nbformat": 4,
  "nbformat_minor": 0,
  "metadata": {
    "colab": {
      "name": "test.ipynb",
      "provenance": [],
      "include_colab_link": true
    },
    "jupytext": {
      "formats": "ipynb,py"
    },
    "kernelspec": {
      "display_name": "Python 3",
      "language": "python",
      "name": "python3"
    },
    "language_info": {
      "codemirror_mode": {
        "name": "ipython",
        "version": 3
      },
      "file_extension": ".py",
      "mimetype": "text/x-python",
      "name": "python",
      "nbconvert_exporter": "python",
      "pygments_lexer": "ipython3",
      "version": "3.9.4"
    }
  },
  "cells": [
    {
      "cell_type": "markdown",
      "metadata": {
        "id": "view-in-github",
        "colab_type": "text"
      },
      "source": [
        "<a href=\"https://colab.research.google.com/github/jpgarciaortiz/DWT-ANN/blob/main/test.ipynb\" target=\"_parent\"><img src=\"https://colab.research.google.com/assets/colab-badge.svg\" alt=\"Open In Colab\"/></a>"
      ]
    },
    {
      "cell_type": "markdown",
      "metadata": {
        "id": "qFOJYQ0aofPU"
      },
      "source": [
        "# Previous steps\n"
      ]
    },
    {
      "cell_type": "markdown",
      "metadata": {
        "id": "0yFCGFvIH_Jt"
      },
      "source": [
        "Download MRVC code from GitHub"
      ]
    },
    {
      "cell_type": "code",
      "metadata": {
        "id": "XDGHre7wHlNt",
        "outputId": "4fd73ae8-ddcc-4fa3-90e4-474658dbd3a8",
        "colab": {
          "base_uri": "https://localhost:8080/"
        }
      },
      "source": [
        "!(cd MRVC && git pull) || git clone https://github.com/jpgarciaortiz/MRVC.git"
      ],
      "execution_count": 1,
      "outputs": [
        {
          "output_type": "stream",
          "text": [
            "/bin/bash: line 0: cd: MRVC: No such file or directory\n",
            "Cloning into 'MRVC'...\n",
            "remote: Enumerating objects: 5143, done.\u001b[K\n",
            "remote: Counting objects: 100% (930/930), done.\u001b[K\n",
            "remote: Compressing objects: 100% (247/247), done.\u001b[K\n",
            "remote: Total 5143 (delta 686), reused 922 (delta 678), pack-reused 4213\u001b[K\n",
            "Receiving objects: 100% (5143/5143), 203.96 MiB | 33.10 MiB/s, done.\n",
            "Resolving deltas: 100% (2654/2654), done.\n"
          ],
          "name": "stdout"
        }
      ]
    },
    {
      "cell_type": "markdown",
      "metadata": {
        "id": "0OjrmSdwLURN"
      },
      "source": [
        "Add the MRVC to the source path"
      ]
    },
    {
      "cell_type": "code",
      "metadata": {
        "id": "mBb9I9loKVXa"
      },
      "source": [
        "import sys\n",
        "sys.path.append(\"MRVC/src\")"
      ],
      "execution_count": 2,
      "outputs": []
    },
    {
      "cell_type": "markdown",
      "metadata": {
        "id": "QqpBinBCIzGX"
      },
      "source": [
        "Install additional packages"
      ]
    },
    {
      "cell_type": "code",
      "metadata": {
        "id": "AlcU-m2VmYWQ"
      },
      "source": [
        "!pip install colored ISR 'h5py<3.0.0' > /dev/null 2>&1"
      ],
      "execution_count": 3,
      "outputs": []
    },
    {
      "cell_type": "markdown",
      "metadata": {
        "id": "2D3VMDC1q6qT"
      },
      "source": [
        "Import packages"
      ]
    },
    {
      "cell_type": "code",
      "metadata": {
        "id": "y_iZ9RxxZUOq"
      },
      "source": [
        "%load_ext autoreload\n",
        "%autoreload 2\n",
        "import numpy as np\n",
        "import matplotlib\n",
        "import matplotlib.pyplot as plt\n",
        "import pylab\n",
        "%matplotlib inline\n",
        "import image_3 as image\n",
        "import image_1 as component\n",
        "import DWT\n",
        "import pywt\n",
        "import distortion\n",
        "import YCoCg as YUV\n",
        "import deadzone as Q\n",
        "import math\n",
        "import information\n",
        "import numpy as np\n",
        "from PIL import Image"
      ],
      "execution_count": 4,
      "outputs": []
    },
    {
      "cell_type": "markdown",
      "metadata": {
        "id": "bov0ZQdMrXc1"
      },
      "source": [
        "# Test code"
      ]
    },
    {
      "cell_type": "markdown",
      "metadata": {
        "id": "S1ZbUkGfXwN0"
      },
      "source": [
        "Function to write DWT decomposition to PNG"
      ]
    },
    {
      "cell_type": "code",
      "metadata": {
        "id": "Eq5CJmHRZUOu"
      },
      "source": [
        "def write_compact_decomposition16(decom, prefix, image_number):\n",
        "    rows = decom[len(decom)-1][0].shape[0]*2\n",
        "    cols = decom[len(decom)-1][0].shape[1]*2\n",
        "    coms = decom[0].shape[2]\n",
        "    image_shape = (rows, cols, coms)\n",
        "    view = np.empty(image_shape, np.uint16)\n",
        "\n",
        "    # LL subband\n",
        "    view[0:decom[0].shape[0],\n",
        "         0:decom[0].shape[1]] = (decom[0].astype(np.int32) + 32768).astype(np.uint16)\n",
        "\n",
        "    for l in range(len(decom)-1):\n",
        "\n",
        "        # LH\n",
        "        view[0:decom[l+1][0].shape[0],\n",
        "             decom[l+1][0].shape[1]:decom[l+1][0].shape[1]*2] =\\\n",
        "                (decom[l+1][0].astype(np.int32) + 32768).astype(np.uint16)\n",
        "\n",
        "        # HL\n",
        "        view[decom[l+1][1].shape[0]:decom[l+1][1].shape[0]*2,\n",
        "             0:decom[l+1][1].shape[1]] =\\\n",
        "                (decom[l+1][1].astype(np.int32) + 32768).astype(np.uint16)\n",
        "\n",
        "        # HH\n",
        "        view[decom[l+1][2].shape[0]:decom[l+1][2].shape[0]*2,\n",
        "             decom[l+1][2].shape[1]:decom[l+1][2].shape[1]*2] =\\\n",
        "                (decom[l+1][2].astype(np.int32) + 32768).astype(np.uint16)\n",
        "            \n",
        "    return image.write(view, prefix, image_number)\n",
        "    \n",
        "\n",
        "def write_compact_decomposition(decom, prefix, image_number):\n",
        "    rows = decom[len(decom)-1][0].shape[0]*2\n",
        "    cols = decom[len(decom)-1][0].shape[1]*2\n",
        "    coms = decom[0].shape[2]\n",
        "    image_shape = (rows, cols, coms)\n",
        "    view = np.empty(image_shape, np.uint8)\n",
        "\n",
        "    # LL subband\n",
        "    view[0:decom[0].shape[0],\n",
        "         0:decom[0].shape[1]] = (decom[0].astype(np.int16) + 128).astype(np.uint16)\n",
        "\n",
        "    for l in range(len(decom)-1):\n",
        "\n",
        "        # LH\n",
        "        view[0:decom[l+1][0].shape[0],\n",
        "             decom[l+1][0].shape[1]:decom[l+1][0].shape[1]*2] =\\\n",
        "                (decom[l+1][0].astype(np.int16) + 128).astype(np.uint16)\n",
        "\n",
        "        # HL\n",
        "        view[decom[l+1][1].shape[0]:decom[l+1][1].shape[0]*2,\n",
        "             0:decom[l+1][1].shape[1]] =\\\n",
        "                (decom[l+1][1].astype(np.int16) + 128).astype(np.uint16)\n",
        "\n",
        "        # HH\n",
        "        view[decom[l+1][2].shape[0]:decom[l+1][2].shape[0]*2,\n",
        "             decom[l+1][2].shape[1]:decom[l+1][2].shape[1]*2] =\\\n",
        "                (decom[l+1][2].astype(np.int16) + 128).astype(np.uint16)\n",
        "            \n",
        "    return image.write(view, prefix, image_number)"
      ],
      "execution_count": 5,
      "outputs": []
    },
    {
      "cell_type": "markdown",
      "metadata": {
        "id": "EJp3B8maYMpM"
      },
      "source": [
        "Read the image"
      ]
    },
    {
      "cell_type": "code",
      "metadata": {
        "id": "yQlZ6q3bYKkd"
      },
      "source": [
        "x = image.read('MRVC/sequences/lena_color/')\n",
        "#Image.fromarray(x)"
      ],
      "execution_count": 6,
      "outputs": []
    },
    {
      "cell_type": "markdown",
      "metadata": {
        "id": "rSGTT0oOYhap"
      },
      "source": [
        "Wavelet parameters"
      ]
    },
    {
      "cell_type": "code",
      "metadata": {
        "id": "4wRN2aOvUS1M"
      },
      "source": [
        "N_levels = 1\n",
        "wavelet = pywt.Wavelet(\"Haar\")\n",
        "#wavelet = pywt.Wavelet(\"db1\")\n",
        "#wavelet = pywt.Wavelet(\"db5\")\n",
        "#wavelet = pywt.Wavelet(\"db15\")\n",
        "#wavelet = pywt.Wavelet(\"bior3.1\")\n",
        "#wavelet = pywt.Wavelet(\"bior3.3\")\n",
        "#wavelet = pywt.Wavelet(\"bior5.5\")"
      ],
      "execution_count": 7,
      "outputs": []
    },
    {
      "cell_type": "code",
      "metadata": {
        "id": "MJBzpsPKZUOz"
      },
      "source": [
        "y = DWT.analyze(x, wavelet, N_levels)\n",
        "#z = DWT.synthesize(y, wavelet, N_levels).astype(np.uint8)"
      ],
      "execution_count": 8,
      "outputs": []
    },
    {
      "cell_type": "code",
      "metadata": {
        "id": "o7k1qbUDU_lC",
        "colab": {
          "base_uri": "https://localhost:8080/"
        },
        "outputId": "dc1f26d0-4fac-407e-c4db-832077ca09c2"
      },
      "source": [
        "len0 = write_compact_decomposition(y, 'test', 0)\n",
        "print(f'File length 0: {len0} bytes')"
      ],
      "execution_count": 9,
      "outputs": [
        {
          "output_type": "stream",
          "text": [
            "File length 0: 531583 bytes\n"
          ],
          "name": "stdout"
        }
      ]
    },
    {
      "cell_type": "code",
      "metadata": {
        "id": "qgk2CO800TAd"
      },
      "source": [
        "ll = y[0]\n",
        "lh = y[1][0]\n",
        "hl = y[1][1]\n",
        "hh = y[1][2]"
      ],
      "execution_count": 10,
      "outputs": []
    },
    {
      "cell_type": "code",
      "metadata": {
        "id": "ztN-waCVS1AB"
      },
      "source": [
        "ll_i = (image.normalize(ll) * 255.0).astype('uint8')\n",
        "#Image.fromarray(ll_i)"
      ],
      "execution_count": 11,
      "outputs": []
    },
    {
      "cell_type": "code",
      "metadata": {
        "id": "pzwJXfBIUAC9",
        "outputId": "f1960e57-6f04-488f-f224-8f9f87d20978",
        "colab": {
          "base_uri": "https://localhost:8080/"
        }
      },
      "source": [
        "from ISR.models import RDN\n",
        "\n",
        "rdn = RDN(weights='psnr-small')\n",
        "ll_i2 = rdn.predict(ll_i)\n",
        "#Image.fromarray(ll_i2)"
      ],
      "execution_count": 12,
      "outputs": [
        {
          "output_type": "stream",
          "text": [
            "Downloading data from https://public-asai-dl-models.s3.eu-central-1.amazonaws.com/ISR/rdn-C3-D10-G64-G064-x2/PSNR-driven/rdn-C3-D10-G64-G064-x2_PSNR_epoch134.hdf5\n",
            "10698752/10694096 [==============================] - 1s 0us/step\n"
          ],
          "name": "stdout"
        }
      ]
    },
    {
      "cell_type": "code",
      "metadata": {
        "id": "spXYm-k9UcKB"
      },
      "source": [
        "yp = DWT.analyze(ll_i2, wavelet, N_levels)"
      ],
      "execution_count": 13,
      "outputs": []
    },
    {
      "cell_type": "code",
      "metadata": {
        "id": "5ff69TpNUnUL"
      },
      "source": [
        "lhp = yp[1][0]\n",
        "hlp = yp[1][1]\n",
        "hhp = yp[1][2]"
      ],
      "execution_count": 14,
      "outputs": []
    },
    {
      "cell_type": "code",
      "metadata": {
        "id": "I0K103-OV6qR"
      },
      "source": [
        "yp[0] = ll\n",
        "yp[1] = (lh - lhp, hl - hlp, hh - hhp)\n"
      ],
      "execution_count": 18,
      "outputs": []
    },
    {
      "cell_type": "code",
      "metadata": {
        "colab": {
          "base_uri": "https://localhost:8080/"
        },
        "id": "Ct7ISqNO19_g",
        "outputId": "84549e65-e3c3-429f-b338-d01e57c0b361"
      },
      "source": [
        "len1 = write_compact_decomposition(yp, 'test', 1)\n",
        "print(f'File length 1: {len1} bytes')"
      ],
      "execution_count": 19,
      "outputs": [
        {
          "output_type": "stream",
          "text": [
            "File length 1: 526409 bytes\n"
          ],
          "name": "stdout"
        }
      ]
    },
    {
      "cell_type": "code",
      "metadata": {
        "id": "tGwCqJcFY9Ew",
        "colab": {
          "base_uri": "https://localhost:8080/"
        },
        "outputId": "cd797688-5711-41d1-c52c-306cdf2f6f43"
      },
      "source": [
        "dif = len0 - len1\n",
        "gain = (dif * 100) / len0\n",
        "print(f'Compression gain: {gain:.2}%')"
      ],
      "execution_count": 20,
      "outputs": [
        {
          "output_type": "stream",
          "text": [
            "Compression gain: 0.97%\n"
          ],
          "name": "stdout"
        }
      ]
    },
    {
      "cell_type": "code",
      "metadata": {
        "id": "IpvKhgktZa7g"
      },
      "source": [
        ""
      ],
      "execution_count": null,
      "outputs": []
    }
  ]
}